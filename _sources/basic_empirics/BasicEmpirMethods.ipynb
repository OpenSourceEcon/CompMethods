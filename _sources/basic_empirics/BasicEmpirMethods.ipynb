{
 "cells": [
  {
   "cell_type": "markdown",
   "id": "5a0a0792",
   "metadata": {},
   "source": [
    "(Chap_BasicEmpirMethods)=\n",
    "# Basic Empirical Methods\n",
    "\n",
    "This chapter has an executable [Google Colab notebook](https://colab.research.google.com/drive/1sIHaDBE5fafPXYBl9cRDFQMsFNjq67t5?usp=sharing) with all the same code, data references, and images. The Google Colab notebook allows you to execute the code in this chapter in the cloud so you don't have to download Python, any of its packages, or any data to your local computer. You could manipulate and execute this notebook on any device with a browser, whether than be your computer, phone, or tablet.\n",
    "\n",
    "The focus of this chapter is to give the reader a basic introduction to the standard empirical methods in data science, policy analysis, and economics. I want each reader to come away from this chapter with the following basic skills:\n",
    "\n",
    "* Difference between **correlation** and **causation**\n",
    "* Standard **data description**\n",
    "* Basic understanding of **linear regression**\n",
    "    * What do regression **coefficients** mean?\n",
    "    * What do **standard errors** mean?\n",
    "    * How can I estimate my own linear regression with standard errors?\n",
    "    * Basic extensions: cross terms, quadratic terms, difference-in-difference\n",
    "* Ideas behind bigger extensions of linear regression\n",
    "    * Instrumental variables (omitted variable bias)\n",
    "    * Logistic regression\n",
    "    * Multiple equation models\n",
    "    * Panel data\n",
    "    * Time series data\n",
    "    * Vector autoregression\n",
    "\n",
    "\n",
    "In the next chapter {ref}`Chap_BasicMLintro`, I give a more detailed treatment of logistic regression as a bridge to learning the basics of machine learning.\n",
    "\n",
    "Some other good resources on the topic of learning the basics of linear regression in Python include the [QuantEcon.org](https://quantecon.org/) lectures \"[Simple Linear Regression Model](https://intro.quantecon.org/simple_linear_regression.html)\" {cite}`SargentStachurski:2023a`, and \"[Linear Regression in Python](https://python.quantecon.org/ols.html)\" {cite}`SargentStachurski:2023b`.\n",
    "\n",
    "\n",
    "(SecBasicEmpLit)=\n",
    "## Basic Empirical Methods in the Literature\n",
    "\n",
    "What are the standard empirical methods in the current version of the *American Economic Review* ([Vol. 113, No. 10, October 2023](https://www.aeaweb.org/issues/736))?\n",
    "\n",
    "Allen, Bertazzini, and Heldring, \"The Economic Origins of Government\" {cite}`AllenEtAl:2023`\n",
    "* Table 1, descriptive/summary statistics of the data\n",
    "* Eq. 1: Difference-in-difference\n",
    "\\begin{equation*}\n",
    "  Y_{c,t} = \\sum_{k=0}^{-4}\\left(\\beta_k^{trmt}\\times\\mathbf{1}_k\\times treated_c\\right) + \\rho_c + \\gamma_t + \\nu_{c,t} + \\varepsilon_{c,t}\n",
    "\\end{equation*}\n",
    "* Table 2, estimated coefficients, cross terms, standard errors\n",
    "\n",
    "The iframe below contains a PDF of {cite}`AllenEtAl:2023` \"The Economic Origins of Government\".\n",
    "\n",
    "<div>\n",
    "  <iframe id=\"inlineFrameExample\"\n",
    "      title=\"Inline Frame Example\"\n",
    "      width=\"100%\"\n",
    "      height=\"700\"\n",
    "      src=\"https://drive.google.com/file/d/1ZR8a6DmbMbrW3K4Hdkgg5x4X1oFy_yNn/preview?usp=sharing\">\n",
    "  </iframe>\n",
    "</div>\n",
    "\n",
    "\n",
    "(SecBasicEmpCorrCaus)=\n",
    "## Correlation versus Causation\n",
    "\n",
    "```{figure} ../../../images/basic_empirics/basic_empirics/CorrVsCaus.png\n",
    ":height: 500px\n",
    ":name: FigBasicEmpir_CorrVsCaus\n",
    "\n",
    "Correlation versus causation comic by {cite}`Elliott:2023`.\n",
    "```\n",
    "\n",
    "What is the difference between correlation and causation?\n",
    "* What are some examples of things that are correlated but do not \"cause\" each other?\n",
    "\n",
    "What are some principles that cause correlation to not be causation?\n",
    "* Third variable problem/omitted variable/spurious correlation\n",
    "* Directionality/endogeneity\n",
    "\n",
    "How do we determine causation?\n",
    "* Randomized controlled trials (RCT)\n",
    "* Laboratory experiments\n",
    "* Natural experiments\n",
    "* Quasi natural experiments\n",
    "\n",
    "\n",
    "(SecBasicEmpDescr)=\n",
    "## Data Description\n",
    "\n",
    "Any paper that uses data needs to spend some ink summarizing and describing the data. This is usually done in tables. But it can also be done in cross tabulation, which is descriptive statistics by category. The most common types of descriptive statistics are the following:\n",
    "\n",
    "* mean\n",
    "* median\n",
    "* variance\n",
    "* count\n",
    "* max\n",
    "* min\n",
    "\n",
    "Let's download some data, and read it in using the Pandas library for Python.[^PandasRef] The following example is adapted from QuantEcon's \"[Linear Regression in Python](https://python.quantecon.org/ols.html)\" lecture {cite}`SargentStachurski:2023b`.\n",
    "\n",
    "The research question of the paper \"The Colonial Origins of Comparative Development: An Empirical Investigation\" {cite}`AcemogluEtAl:2001` is to determine whether or not differences in institutions can help to explain observed economic outcomes. How do we measure institutional differences and economic outcomes? In this paper:\n",
    "* economic outcomes are proxied by log GDP per capita in 1995, adjusted for exchange rates,\n",
    "* institutional differences are proxied by an index of protection against expropriation on average over 1985-95, constructed by the [Political Risk Serivces Group](https://www.prsgroup.com/).\n",
    "\n",
    "These variables and other data used in the paper are available for download on [Daron Acemoglu’s webpage](https://economics.mit.edu/faculty/acemoglu/data/ajr2001).\n",
    "\n",
    "\n",
    "(SecBasicEmpDescrBasic)=\n",
    "### Basic data description\n",
    "\n",
    "The following cells downloads the data from {cite}`AcemogluEtAl:2001` from the file `maketable1.dta` and displays the first five observations from the data."
   ]
  },
  {
   "cell_type": "code",
   "execution_count": 1,
   "id": "d0b22263",
   "metadata": {
    "tags": []
   },
   "outputs": [],
   "source": [
    "import pandas as pd\n",
    "\n",
    "path_df1 = ('https://github.com/OpenSourceEcon/CompMethods/' +\n",
    "            'raw/main/data/basic_empirics/maketable1.dta')\n",
    "df1 = pd.read_stata(path_df1)"
   ]
  },
  {
   "cell_type": "markdown",
   "id": "5ee6a411",
   "metadata": {},
   "source": [
    "The [`pandas.DataFrame.head`](https://pandas.pydata.org/pandas-docs/stable/reference/api/pandas.DataFrame.head.html) method returns the first $n$ forws of a DataFrame with column headings and index numbers. The default is `n=5`."
   ]
  },
  {
   "cell_type": "code",
   "execution_count": 2,
   "id": "9283552b",
   "metadata": {
    "tags": []
   },
   "outputs": [
    {
     "data": {
      "text/html": [
       "<div>\n",
       "<style scoped>\n",
       "    .dataframe tbody tr th:only-of-type {\n",
       "        vertical-align: middle;\n",
       "    }\n",
       "\n",
       "    .dataframe tbody tr th {\n",
       "        vertical-align: top;\n",
       "    }\n",
       "\n",
       "    .dataframe thead th {\n",
       "        text-align: right;\n",
       "    }\n",
       "</style>\n",
       "<table border=\"1\" class=\"dataframe\">\n",
       "  <thead>\n",
       "    <tr style=\"text-align: right;\">\n",
       "      <th></th>\n",
       "      <th>shortnam</th>\n",
       "      <th>euro1900</th>\n",
       "      <th>excolony</th>\n",
       "      <th>avexpr</th>\n",
       "      <th>logpgp95</th>\n",
       "      <th>cons1</th>\n",
       "      <th>cons90</th>\n",
       "      <th>democ00a</th>\n",
       "      <th>cons00a</th>\n",
       "      <th>extmort4</th>\n",
       "      <th>logem4</th>\n",
       "      <th>loghjypl</th>\n",
       "      <th>baseco</th>\n",
       "    </tr>\n",
       "  </thead>\n",
       "  <tbody>\n",
       "    <tr>\n",
       "      <th>0</th>\n",
       "      <td>AFG</td>\n",
       "      <td>0.000000</td>\n",
       "      <td>1.0</td>\n",
       "      <td>NaN</td>\n",
       "      <td>NaN</td>\n",
       "      <td>1.0</td>\n",
       "      <td>2.0</td>\n",
       "      <td>1.0</td>\n",
       "      <td>1.0</td>\n",
       "      <td>93.699997</td>\n",
       "      <td>4.540098</td>\n",
       "      <td>NaN</td>\n",
       "      <td>NaN</td>\n",
       "    </tr>\n",
       "    <tr>\n",
       "      <th>1</th>\n",
       "      <td>AGO</td>\n",
       "      <td>8.000000</td>\n",
       "      <td>1.0</td>\n",
       "      <td>5.363636</td>\n",
       "      <td>7.770645</td>\n",
       "      <td>3.0</td>\n",
       "      <td>3.0</td>\n",
       "      <td>0.0</td>\n",
       "      <td>1.0</td>\n",
       "      <td>280.000000</td>\n",
       "      <td>5.634789</td>\n",
       "      <td>-3.411248</td>\n",
       "      <td>1.0</td>\n",
       "    </tr>\n",
       "    <tr>\n",
       "      <th>2</th>\n",
       "      <td>ARE</td>\n",
       "      <td>0.000000</td>\n",
       "      <td>1.0</td>\n",
       "      <td>7.181818</td>\n",
       "      <td>9.804219</td>\n",
       "      <td>NaN</td>\n",
       "      <td>NaN</td>\n",
       "      <td>NaN</td>\n",
       "      <td>NaN</td>\n",
       "      <td>NaN</td>\n",
       "      <td>NaN</td>\n",
       "      <td>NaN</td>\n",
       "      <td>NaN</td>\n",
       "    </tr>\n",
       "    <tr>\n",
       "      <th>3</th>\n",
       "      <td>ARG</td>\n",
       "      <td>60.000004</td>\n",
       "      <td>1.0</td>\n",
       "      <td>6.386364</td>\n",
       "      <td>9.133459</td>\n",
       "      <td>1.0</td>\n",
       "      <td>6.0</td>\n",
       "      <td>3.0</td>\n",
       "      <td>3.0</td>\n",
       "      <td>68.900002</td>\n",
       "      <td>4.232656</td>\n",
       "      <td>-0.872274</td>\n",
       "      <td>1.0</td>\n",
       "    </tr>\n",
       "    <tr>\n",
       "      <th>4</th>\n",
       "      <td>ARM</td>\n",
       "      <td>0.000000</td>\n",
       "      <td>0.0</td>\n",
       "      <td>NaN</td>\n",
       "      <td>7.682482</td>\n",
       "      <td>NaN</td>\n",
       "      <td>NaN</td>\n",
       "      <td>NaN</td>\n",
       "      <td>NaN</td>\n",
       "      <td>NaN</td>\n",
       "      <td>NaN</td>\n",
       "      <td>NaN</td>\n",
       "      <td>NaN</td>\n",
       "    </tr>\n",
       "  </tbody>\n",
       "</table>\n",
       "</div>"
      ],
      "text/plain": [
       "  shortnam   euro1900  excolony    avexpr  logpgp95  cons1  cons90  democ00a  \\\n",
       "0      AFG   0.000000       1.0       NaN       NaN    1.0     2.0       1.0   \n",
       "1      AGO   8.000000       1.0  5.363636  7.770645    3.0     3.0       0.0   \n",
       "2      ARE   0.000000       1.0  7.181818  9.804219    NaN     NaN       NaN   \n",
       "3      ARG  60.000004       1.0  6.386364  9.133459    1.0     6.0       3.0   \n",
       "4      ARM   0.000000       0.0       NaN  7.682482    NaN     NaN       NaN   \n",
       "\n",
       "   cons00a    extmort4    logem4  loghjypl  baseco  \n",
       "0      1.0   93.699997  4.540098       NaN     NaN  \n",
       "1      1.0  280.000000  5.634789 -3.411248     1.0  \n",
       "2      NaN         NaN       NaN       NaN     NaN  \n",
       "3      3.0   68.900002  4.232656 -0.872274     1.0  \n",
       "4      NaN         NaN       NaN       NaN     NaN  "
      ]
     },
     "execution_count": 2,
     "metadata": {},
     "output_type": "execute_result"
    }
   ],
   "source": [
    "df1.head()"
   ]
  },
  {
   "cell_type": "markdown",
   "id": "77a2ddbb",
   "metadata": {},
   "source": [
    "How many observations are in this dataset? What are the different countries in this dataset? The [`pandas.DataFrame.shape`](https://pandas.pydata.org/pandas-docs/stable/reference/api/pandas.DataFrame.shape.html) method returns a tuple in which the first element is the number of observations (rows) in the DataFrame and the second element is the number of variables (columns)."
   ]
  },
  {
   "cell_type": "code",
   "execution_count": 3,
   "id": "0c111e58",
   "metadata": {
    "tags": []
   },
   "outputs": [
    {
     "data": {
      "text/plain": [
       "(163, 13)"
      ]
     },
     "execution_count": 3,
     "metadata": {},
     "output_type": "execute_result"
    }
   ],
   "source": [
    "\n",
    "df1.shape"
   ]
  },
  {
   "cell_type": "code",
   "execution_count": 4,
   "id": "7071c1ab",
   "metadata": {
    "tags": []
   },
   "outputs": [
    {
     "name": "stdout",
     "output_type": "stream",
     "text": [
      "The number of observations (rows) and variables (columns)\n",
      "in the dataset is 163observations (rows) and\n",
      "13 variables (columns).\n",
      "\n",
      "A list of all the 163 unique countries in the \"shortnam\" variable is:\n",
      "\n",
      "['AFG' 'AGO' 'ARE' 'ARG' 'ARM' 'AUS' 'AUT' 'AZE' 'BDI' 'BEL' 'BEN' 'BFA'\n",
      " 'BGD' 'BGR' 'BHR' 'BHS' 'BIH' 'BLR' 'BLZ' 'BOL' 'BRA' 'BRB' 'BTN' 'BWA'\n",
      " 'CAF' 'CAN' 'CHE' 'CHL' 'CHN' 'CIV' 'CMR' 'COG' 'COL' 'COM' 'CPV' 'CRI'\n",
      " 'CZE' 'DEU' 'DJI' 'DNK' 'DOM' 'DZA' 'ECU' 'EGY' 'ERI' 'ESP' 'EST' 'ETH'\n",
      " 'FIN' 'FJI' 'FRA' 'GAB' 'GBR' 'GEO' 'GHA' 'GIN' 'GMB' 'GNB' 'GRC' 'GTM'\n",
      " 'GUY' 'HKG' 'HND' 'HRV' 'HTI' 'HUN' 'IDN' 'IND' 'IRL' 'IRN' 'IRQ' 'ISL'\n",
      " 'ISR' 'ITA' 'JAM' 'JOR' 'JPN' 'KAZ' 'KEN' 'KGZ' 'KOR' 'KWT' 'LAO' 'LBR'\n",
      " 'LBY' 'LKA' 'LSO' 'LTU' 'LUX' 'LVA' 'MAR' 'MDA' 'MDG' 'MEX' 'MKD' 'MLI'\n",
      " 'MLT' 'MMR' 'MNG' 'MOZ' 'MRT' 'MUS' 'MWI' 'MYS' 'NAM' 'NER' 'NGA' 'NIC'\n",
      " 'NLD' 'NOR' 'NPL' 'NZL' 'OMN' 'PAK' 'PAN' 'PER' 'PHL' 'PNG' 'POL' 'PRK'\n",
      " 'PRT' 'PRY' 'QAT' 'ROM' 'RUS' 'RWA' 'SAU' 'SDN' 'SEN' 'SGP' 'SLE' 'SLV'\n",
      " 'SOM' 'STP' 'SUR' 'SVK' 'SVN' 'SWE' 'SWZ' 'SYR' 'TCD' 'TGO' 'THA' 'TJK'\n",
      " 'TKM' 'TTO' 'TUN' 'TUR' 'TWN' 'TZA' 'UGA' 'UKR' 'URY' 'USA' 'UZB' 'VEN'\n",
      " 'VNM' 'YEM' 'YUG' 'ZAF' 'ZAR' 'ZMB' 'ZWE']\n"
     ]
    }
   ],
   "source": [
    "print(\"The number of observations (rows) and variables (columns)\")\n",
    "print(\"in the dataset is \" + str(df1.shape[0]) + \"observations (rows) and\")\n",
    "print(str(df1.shape[1]) + \" variables (columns).\")\n",
    "print(\"\")\n",
    "print(\"A list of all the\", len(df1[\"shortnam\"].unique()),\n",
    "      'unique countries in the \"shortnam\" variable is:')\n",
    "print(\"\")\n",
    "print(df1[\"shortnam\"].unique())"
   ]
  },
  {
   "cell_type": "markdown",
   "id": "5c4f49c6",
   "metadata": {},
   "source": [
    "Pandas DataFrames have a built-in method [`.describe()`](https://pandas.pydata.org/pandas-docs/stable/reference/api/pandas.DataFrame.describe.html) that will give the basic descriptive statistics for the numerical variables of a dataset."
   ]
  },
  {
   "cell_type": "code",
   "execution_count": 5,
   "id": "62e77aff",
   "metadata": {
    "tags": []
   },
   "outputs": [
    {
     "data": {
      "text/html": [
       "<div>\n",
       "<style scoped>\n",
       "    .dataframe tbody tr th:only-of-type {\n",
       "        vertical-align: middle;\n",
       "    }\n",
       "\n",
       "    .dataframe tbody tr th {\n",
       "        vertical-align: top;\n",
       "    }\n",
       "\n",
       "    .dataframe thead th {\n",
       "        text-align: right;\n",
       "    }\n",
       "</style>\n",
       "<table border=\"1\" class=\"dataframe\">\n",
       "  <thead>\n",
       "    <tr style=\"text-align: right;\">\n",
       "      <th></th>\n",
       "      <th>euro1900</th>\n",
       "      <th>excolony</th>\n",
       "      <th>avexpr</th>\n",
       "      <th>logpgp95</th>\n",
       "      <th>cons1</th>\n",
       "      <th>cons90</th>\n",
       "      <th>democ00a</th>\n",
       "      <th>cons00a</th>\n",
       "      <th>extmort4</th>\n",
       "      <th>logem4</th>\n",
       "      <th>loghjypl</th>\n",
       "      <th>baseco</th>\n",
       "    </tr>\n",
       "  </thead>\n",
       "  <tbody>\n",
       "    <tr>\n",
       "      <th>count</th>\n",
       "      <td>154.000000</td>\n",
       "      <td>162.000000</td>\n",
       "      <td>121.000000</td>\n",
       "      <td>148.000000</td>\n",
       "      <td>88.000000</td>\n",
       "      <td>88.000000</td>\n",
       "      <td>87.000000</td>\n",
       "      <td>91.000000</td>\n",
       "      <td>87.000000</td>\n",
       "      <td>87.000000</td>\n",
       "      <td>123.000000</td>\n",
       "      <td>64.0</td>\n",
       "    </tr>\n",
       "    <tr>\n",
       "      <th>mean</th>\n",
       "      <td>30.466232</td>\n",
       "      <td>0.666667</td>\n",
       "      <td>7.066491</td>\n",
       "      <td>8.302509</td>\n",
       "      <td>3.590909</td>\n",
       "      <td>3.636364</td>\n",
       "      <td>1.149425</td>\n",
       "      <td>1.857143</td>\n",
       "      <td>220.926437</td>\n",
       "      <td>4.595984</td>\n",
       "      <td>-1.731106</td>\n",
       "      <td>1.0</td>\n",
       "    </tr>\n",
       "    <tr>\n",
       "      <th>std</th>\n",
       "      <td>42.389862</td>\n",
       "      <td>0.472866</td>\n",
       "      <td>1.804287</td>\n",
       "      <td>1.105342</td>\n",
       "      <td>2.414689</td>\n",
       "      <td>2.339967</td>\n",
       "      <td>2.576859</td>\n",
       "      <td>1.823132</td>\n",
       "      <td>411.498230</td>\n",
       "      <td>1.303334</td>\n",
       "      <td>1.083726</td>\n",
       "      <td>0.0</td>\n",
       "    </tr>\n",
       "    <tr>\n",
       "      <th>min</th>\n",
       "      <td>0.000000</td>\n",
       "      <td>0.000000</td>\n",
       "      <td>1.636364</td>\n",
       "      <td>6.109248</td>\n",
       "      <td>1.000000</td>\n",
       "      <td>1.000000</td>\n",
       "      <td>0.000000</td>\n",
       "      <td>1.000000</td>\n",
       "      <td>2.550000</td>\n",
       "      <td>0.936093</td>\n",
       "      <td>-3.540459</td>\n",
       "      <td>1.0</td>\n",
       "    </tr>\n",
       "    <tr>\n",
       "      <th>25%</th>\n",
       "      <td>0.000000</td>\n",
       "      <td>0.000000</td>\n",
       "      <td>5.886364</td>\n",
       "      <td>7.376192</td>\n",
       "      <td>1.000000</td>\n",
       "      <td>1.750000</td>\n",
       "      <td>0.000000</td>\n",
       "      <td>1.000000</td>\n",
       "      <td>68.350006</td>\n",
       "      <td>4.224609</td>\n",
       "      <td>-2.741120</td>\n",
       "      <td>1.0</td>\n",
       "    </tr>\n",
       "    <tr>\n",
       "      <th>50%</th>\n",
       "      <td>1.950000</td>\n",
       "      <td>1.000000</td>\n",
       "      <td>7.045455</td>\n",
       "      <td>8.265764</td>\n",
       "      <td>3.000000</td>\n",
       "      <td>3.000000</td>\n",
       "      <td>0.000000</td>\n",
       "      <td>1.000000</td>\n",
       "      <td>85.000000</td>\n",
       "      <td>4.442651</td>\n",
       "      <td>-1.560648</td>\n",
       "      <td>1.0</td>\n",
       "    </tr>\n",
       "    <tr>\n",
       "      <th>75%</th>\n",
       "      <td>91.625000</td>\n",
       "      <td>1.000000</td>\n",
       "      <td>8.272727</td>\n",
       "      <td>9.216228</td>\n",
       "      <td>7.000000</td>\n",
       "      <td>7.000000</td>\n",
       "      <td>1.000000</td>\n",
       "      <td>1.000000</td>\n",
       "      <td>253.259995</td>\n",
       "      <td>5.610119</td>\n",
       "      <td>-0.831277</td>\n",
       "      <td>1.0</td>\n",
       "    </tr>\n",
       "    <tr>\n",
       "      <th>max</th>\n",
       "      <td>100.000000</td>\n",
       "      <td>1.000000</td>\n",
       "      <td>10.000000</td>\n",
       "      <td>10.288750</td>\n",
       "      <td>7.000000</td>\n",
       "      <td>7.000000</td>\n",
       "      <td>10.000000</td>\n",
       "      <td>7.000000</td>\n",
       "      <td>2940.000000</td>\n",
       "      <td>7.986165</td>\n",
       "      <td>0.000000</td>\n",
       "      <td>1.0</td>\n",
       "    </tr>\n",
       "  </tbody>\n",
       "</table>\n",
       "</div>"
      ],
      "text/plain": [
       "         euro1900    excolony      avexpr    logpgp95      cons1     cons90  \\\n",
       "count  154.000000  162.000000  121.000000  148.000000  88.000000  88.000000   \n",
       "mean    30.466232    0.666667    7.066491    8.302509   3.590909   3.636364   \n",
       "std     42.389862    0.472866    1.804287    1.105342   2.414689   2.339967   \n",
       "min      0.000000    0.000000    1.636364    6.109248   1.000000   1.000000   \n",
       "25%      0.000000    0.000000    5.886364    7.376192   1.000000   1.750000   \n",
       "50%      1.950000    1.000000    7.045455    8.265764   3.000000   3.000000   \n",
       "75%     91.625000    1.000000    8.272727    9.216228   7.000000   7.000000   \n",
       "max    100.000000    1.000000   10.000000   10.288750   7.000000   7.000000   \n",
       "\n",
       "        democ00a    cons00a     extmort4     logem4    loghjypl  baseco  \n",
       "count  87.000000  91.000000    87.000000  87.000000  123.000000    64.0  \n",
       "mean    1.149425   1.857143   220.926437   4.595984   -1.731106     1.0  \n",
       "std     2.576859   1.823132   411.498230   1.303334    1.083726     0.0  \n",
       "min     0.000000   1.000000     2.550000   0.936093   -3.540459     1.0  \n",
       "25%     0.000000   1.000000    68.350006   4.224609   -2.741120     1.0  \n",
       "50%     0.000000   1.000000    85.000000   4.442651   -1.560648     1.0  \n",
       "75%     1.000000   1.000000   253.259995   5.610119   -0.831277     1.0  \n",
       "max    10.000000   7.000000  2940.000000   7.986165    0.000000     1.0  "
      ]
     },
     "execution_count": 5,
     "metadata": {},
     "output_type": "execute_result"
    }
   ],
   "source": [
    "df1.describe()"
   ]
  },
  {
   "cell_type": "markdown",
   "id": "2c6ffee1",
   "metadata": {},
   "source": [
    "The variable `logpgp95` represents GDP per capita for each country. The variable `avexpr` represents the protection against expropriation index. So more protection is a good thing. What do we expect to see if we do a scatterplot of these two variables with `avexpr` on the `x`-axis and `logpgp95` on the `y`-axis? Draw it on a piece of paper or on a white board.\n",
    "\n",
    "Let’s use a scatterplot to see whether any obvious relationship exists between GDP per capita and the protection against expropriation index."
   ]
  },
  {
   "cell_type": "code",
   "execution_count": 6,
   "id": "d83d1fa1",
   "metadata": {
    "tags": [
     "remove-output"
    ]
   },
   "outputs": [
    {
     "data": {
      "image/png": "[encoded data removed]",
      "text/plain": [
       "<Figure size 640x480 with 1 Axes>"
      ]
     },
     "metadata": {},
     "output_type": "display_data"
    }
   ],
   "source": [
    "import matplotlib.pyplot as plt\n",
    "\n",
    "plt.scatter(x=df1[\"avexpr\"], y=df1[\"logpgp95\"], s=10)\n",
    "plt.xlim((3.2, 10.5))\n",
    "plt.ylim((5.9, 10.5))\n",
    "plt.title(\"Scatterplot of average expropriation protection and log GDP per \" +\n",
    "          \"capita for each country\")\n",
    "plt.xlabel(r'Average Expropriation Protection 1985-95')\n",
    "plt.ylabel(r'Log GDP per capita, PPP, 1995')\n",
    "plt.grid(color='gray', linestyle=':', linewidth=1, alpha=0.5)\n",
    "plt.show()"
   ]
  },
  {
   "cell_type": "markdown",
   "id": "4fe4e08d",
   "metadata": {},
   "source": [
    "```{figure} ../../../images/basic_empirics/basic_empirics/scatter1.png\n",
    ":height: 500px\n",
    ":name: FigBasicEmpir_scatter1\n",
    "\n",
    "Scatterplot of average expropriation protection $avexpr$ and log GDP per capita $logpgp95$ for each country\n",
    "```\n",
    "\n",
    "The plot shows a fairly strong positive relationship between protection against expropriation and log GDP per capita. Specifically, if higher protection against expropriation is a measure of institutional quality, then better institutions appear to be positively correlated with better economic outcomes (higher GDP per capita).\n",
    "\n",
    "\n",
    "(SecBasicEmpDescrCross)=\n",
    "### Cross tabulated data Description\n",
    "\n",
    "Cross tabulation is a set of descriptive statics by groupings of the data. In R and Python, this is done with a powerful [`.groupby`](https://pandas.pydata.org/pandas-docs/stable/reference/api/pandas.DataFrame.groupby.html) command. What if we thought that the relationship between protection against expropriation `avexpr` and `logpgp95` were different for countries whose abbreviation started with A-M versus countries whose abbreviation started with N-Z?"
   ]
  },
  {
   "cell_type": "code",
   "execution_count": 7,
   "id": "3d319c77",
   "metadata": {
    "tags": []
   },
   "outputs": [
    {
     "name": "stderr",
     "output_type": "stream",
     "text": [
      "/tmp/ipykernel_2868/3993614049.py:4: SettingWithCopyWarning: \n",
      "A value is trying to be set on a copy of a slice from a DataFrame\n",
      "\n",
      "See the caveats in the documentation: https://pandas.pydata.org/pandas-docs/stable/user_guide/indexing.html#returning-a-view-versus-a-copy\n",
      "  df1[\"AtoM\"][\n"
     ]
    },
    {
     "data": {
      "text/html": [
       "<div>\n",
       "<style scoped>\n",
       "    .dataframe tbody tr th:only-of-type {\n",
       "        vertical-align: middle;\n",
       "    }\n",
       "\n",
       "    .dataframe tbody tr th {\n",
       "        vertical-align: top;\n",
       "    }\n",
       "\n",
       "    .dataframe thead tr th {\n",
       "        text-align: left;\n",
       "    }\n",
       "\n",
       "    .dataframe thead tr:last-of-type th {\n",
       "        text-align: right;\n",
       "    }\n",
       "</style>\n",
       "<table border=\"1\" class=\"dataframe\">\n",
       "  <thead>\n",
       "    <tr>\n",
       "      <th></th>\n",
       "      <th colspan=\"8\" halign=\"left\">euro1900</th>\n",
       "      <th colspan=\"2\" halign=\"left\">excolony</th>\n",
       "      <th>...</th>\n",
       "      <th colspan=\"2\" halign=\"left\">loghjypl</th>\n",
       "      <th colspan=\"8\" halign=\"left\">baseco</th>\n",
       "    </tr>\n",
       "    <tr>\n",
       "      <th></th>\n",
       "      <th>count</th>\n",
       "      <th>mean</th>\n",
       "      <th>std</th>\n",
       "      <th>min</th>\n",
       "      <th>25%</th>\n",
       "      <th>50%</th>\n",
       "      <th>75%</th>\n",
       "      <th>max</th>\n",
       "      <th>count</th>\n",
       "      <th>mean</th>\n",
       "      <th>...</th>\n",
       "      <th>75%</th>\n",
       "      <th>max</th>\n",
       "      <th>count</th>\n",
       "      <th>mean</th>\n",
       "      <th>std</th>\n",
       "      <th>min</th>\n",
       "      <th>25%</th>\n",
       "      <th>50%</th>\n",
       "      <th>75%</th>\n",
       "      <th>max</th>\n",
       "    </tr>\n",
       "    <tr>\n",
       "      <th>AtoM</th>\n",
       "      <th></th>\n",
       "      <th></th>\n",
       "      <th></th>\n",
       "      <th></th>\n",
       "      <th></th>\n",
       "      <th></th>\n",
       "      <th></th>\n",
       "      <th></th>\n",
       "      <th></th>\n",
       "      <th></th>\n",
       "      <th></th>\n",
       "      <th></th>\n",
       "      <th></th>\n",
       "      <th></th>\n",
       "      <th></th>\n",
       "      <th></th>\n",
       "      <th></th>\n",
       "      <th></th>\n",
       "      <th></th>\n",
       "      <th></th>\n",
       "      <th></th>\n",
       "    </tr>\n",
       "  </thead>\n",
       "  <tbody>\n",
       "    <tr>\n",
       "      <th>0</th>\n",
       "      <td>55.0</td>\n",
       "      <td>28.449091</td>\n",
       "      <td>40.994987</td>\n",
       "      <td>0.0</td>\n",
       "      <td>0.0</td>\n",
       "      <td>1.0</td>\n",
       "      <td>50.0</td>\n",
       "      <td>100.0</td>\n",
       "      <td>58.0</td>\n",
       "      <td>0.689655</td>\n",
       "      <td>...</td>\n",
       "      <td>-0.870507</td>\n",
       "      <td>0.000000</td>\n",
       "      <td>24.0</td>\n",
       "      <td>1.0</td>\n",
       "      <td>0.0</td>\n",
       "      <td>1.0</td>\n",
       "      <td>1.0</td>\n",
       "      <td>1.0</td>\n",
       "      <td>1.0</td>\n",
       "      <td>1.0</td>\n",
       "    </tr>\n",
       "    <tr>\n",
       "      <th>1</th>\n",
       "      <td>99.0</td>\n",
       "      <td>31.586870</td>\n",
       "      <td>43.310207</td>\n",
       "      <td>0.0</td>\n",
       "      <td>0.0</td>\n",
       "      <td>2.0</td>\n",
       "      <td>99.5</td>\n",
       "      <td>100.0</td>\n",
       "      <td>104.0</td>\n",
       "      <td>0.653846</td>\n",
       "      <td>...</td>\n",
       "      <td>-0.763590</td>\n",
       "      <td>-0.014099</td>\n",
       "      <td>40.0</td>\n",
       "      <td>1.0</td>\n",
       "      <td>0.0</td>\n",
       "      <td>1.0</td>\n",
       "      <td>1.0</td>\n",
       "      <td>1.0</td>\n",
       "      <td>1.0</td>\n",
       "      <td>1.0</td>\n",
       "    </tr>\n",
       "  </tbody>\n",
       "</table>\n",
       "<p>2 rows × 96 columns</p>\n",
       "</div>"
      ],
      "text/plain": [
       "     euro1900                                                   excolony  \\\n",
       "        count       mean        std  min  25%  50%   75%    max    count   \n",
       "AtoM                                                                       \n",
       "0        55.0  28.449091  40.994987  0.0  0.0  1.0  50.0  100.0     58.0   \n",
       "1        99.0  31.586870  43.310207  0.0  0.0  2.0  99.5  100.0    104.0   \n",
       "\n",
       "                ...  loghjypl           baseco                                \\\n",
       "          mean  ...       75%       max  count mean  std  min  25%  50%  75%   \n",
       "AtoM            ...                                                            \n",
       "0     0.689655  ... -0.870507  0.000000   24.0  1.0  0.0  1.0  1.0  1.0  1.0   \n",
       "1     0.653846  ... -0.763590 -0.014099   40.0  1.0  0.0  1.0  1.0  1.0  1.0   \n",
       "\n",
       "           \n",
       "      max  \n",
       "AtoM       \n",
       "0     1.0  \n",
       "1     1.0  \n",
       "\n",
       "[2 rows x 96 columns]"
      ]
     },
     "execution_count": 7,
     "metadata": {},
     "output_type": "execute_result"
    }
   ],
   "source": [
    "# Create AtoM variable that = 1 if the first letter of the abbreviation is in\n",
    "# A to M and = 0 if it is in N to Z\n",
    "df1[\"AtoM\"] = 0\n",
    "df1[\"AtoM\"][\n",
    "    df1[\"shortnam\"].str[0].isin([\n",
    "        'A','B','C','D','E','F','G','H','I','J','K','L','M'\n",
    "    ])\n",
    "] = 1\n",
    "\n",
    "# Describe the data\n",
    "df1.groupby(\"AtoM\").describe()"
   ]
  },
  {
   "cell_type": "markdown",
   "id": "ef491805",
   "metadata": {},
   "source": [
    "Another way we could do this that is more readable that the output above is to just describe the data in two separate commands in which we restrict the data to the two separate groups."
   ]
  },
  {
   "cell_type": "code",
   "execution_count": 8,
   "id": "17f15df3",
   "metadata": {
    "tags": []
   },
   "outputs": [
    {
     "data": {
      "text/html": [
       "<div>\n",
       "<style scoped>\n",
       "    .dataframe tbody tr th:only-of-type {\n",
       "        vertical-align: middle;\n",
       "    }\n",
       "\n",
       "    .dataframe tbody tr th {\n",
       "        vertical-align: top;\n",
       "    }\n",
       "\n",
       "    .dataframe thead th {\n",
       "        text-align: right;\n",
       "    }\n",
       "</style>\n",
       "<table border=\"1\" class=\"dataframe\">\n",
       "  <thead>\n",
       "    <tr style=\"text-align: right;\">\n",
       "      <th></th>\n",
       "      <th>euro1900</th>\n",
       "      <th>excolony</th>\n",
       "      <th>avexpr</th>\n",
       "      <th>logpgp95</th>\n",
       "      <th>cons1</th>\n",
       "      <th>cons90</th>\n",
       "      <th>democ00a</th>\n",
       "      <th>cons00a</th>\n",
       "      <th>extmort4</th>\n",
       "      <th>logem4</th>\n",
       "      <th>loghjypl</th>\n",
       "      <th>baseco</th>\n",
       "      <th>AtoM</th>\n",
       "    </tr>\n",
       "  </thead>\n",
       "  <tbody>\n",
       "    <tr>\n",
       "      <th>count</th>\n",
       "      <td>99.000000</td>\n",
       "      <td>104.000000</td>\n",
       "      <td>74.000000</td>\n",
       "      <td>95.000000</td>\n",
       "      <td>55.000000</td>\n",
       "      <td>55.000000</td>\n",
       "      <td>55.000000</td>\n",
       "      <td>57.000000</td>\n",
       "      <td>58.000000</td>\n",
       "      <td>58.000000</td>\n",
       "      <td>75.000000</td>\n",
       "      <td>40.0</td>\n",
       "      <td>104.0</td>\n",
       "    </tr>\n",
       "    <tr>\n",
       "      <th>mean</th>\n",
       "      <td>31.586870</td>\n",
       "      <td>0.653846</td>\n",
       "      <td>7.204545</td>\n",
       "      <td>8.381995</td>\n",
       "      <td>3.672727</td>\n",
       "      <td>3.654546</td>\n",
       "      <td>1.236364</td>\n",
       "      <td>2.000000</td>\n",
       "      <td>220.015854</td>\n",
       "      <td>4.534877</td>\n",
       "      <td>-1.701214</td>\n",
       "      <td>1.0</td>\n",
       "      <td>1.0</td>\n",
       "    </tr>\n",
       "    <tr>\n",
       "      <th>std</th>\n",
       "      <td>43.310207</td>\n",
       "      <td>0.478047</td>\n",
       "      <td>1.854914</td>\n",
       "      <td>1.104331</td>\n",
       "      <td>2.373110</td>\n",
       "      <td>2.374386</td>\n",
       "      <td>2.624413</td>\n",
       "      <td>1.982062</td>\n",
       "      <td>431.900574</td>\n",
       "      <td>1.347500</td>\n",
       "      <td>1.119577</td>\n",
       "      <td>0.0</td>\n",
       "      <td>0.0</td>\n",
       "    </tr>\n",
       "    <tr>\n",
       "      <th>min</th>\n",
       "      <td>0.000000</td>\n",
       "      <td>0.000000</td>\n",
       "      <td>1.636364</td>\n",
       "      <td>6.109248</td>\n",
       "      <td>1.000000</td>\n",
       "      <td>1.000000</td>\n",
       "      <td>0.000000</td>\n",
       "      <td>1.000000</td>\n",
       "      <td>2.550000</td>\n",
       "      <td>0.936093</td>\n",
       "      <td>-3.540459</td>\n",
       "      <td>1.0</td>\n",
       "      <td>1.0</td>\n",
       "    </tr>\n",
       "    <tr>\n",
       "      <th>25%</th>\n",
       "      <td>0.000000</td>\n",
       "      <td>0.000000</td>\n",
       "      <td>6.045455</td>\n",
       "      <td>7.417576</td>\n",
       "      <td>1.000000</td>\n",
       "      <td>2.000000</td>\n",
       "      <td>0.000000</td>\n",
       "      <td>1.000000</td>\n",
       "      <td>68.075005</td>\n",
       "      <td>4.220586</td>\n",
       "      <td>-2.789016</td>\n",
       "      <td>1.0</td>\n",
       "      <td>1.0</td>\n",
       "    </tr>\n",
       "    <tr>\n",
       "      <th>50%</th>\n",
       "      <td>2.000000</td>\n",
       "      <td>1.000000</td>\n",
       "      <td>7.204545</td>\n",
       "      <td>8.301521</td>\n",
       "      <td>3.000000</td>\n",
       "      <td>3.000000</td>\n",
       "      <td>0.000000</td>\n",
       "      <td>1.000000</td>\n",
       "      <td>81.599998</td>\n",
       "      <td>4.400960</td>\n",
       "      <td>-1.560648</td>\n",
       "      <td>1.0</td>\n",
       "      <td>1.0</td>\n",
       "    </tr>\n",
       "    <tr>\n",
       "      <th>75%</th>\n",
       "      <td>99.500000</td>\n",
       "      <td>1.000000</td>\n",
       "      <td>8.613637</td>\n",
       "      <td>9.366871</td>\n",
       "      <td>7.000000</td>\n",
       "      <td>6.500000</td>\n",
       "      <td>1.000000</td>\n",
       "      <td>1.000000</td>\n",
       "      <td>259.889984</td>\n",
       "      <td>5.559247</td>\n",
       "      <td>-0.763590</td>\n",
       "      <td>1.0</td>\n",
       "      <td>1.0</td>\n",
       "    </tr>\n",
       "    <tr>\n",
       "      <th>max</th>\n",
       "      <td>100.000000</td>\n",
       "      <td>1.000000</td>\n",
       "      <td>10.000000</td>\n",
       "      <td>10.288750</td>\n",
       "      <td>7.000000</td>\n",
       "      <td>7.000000</td>\n",
       "      <td>10.000000</td>\n",
       "      <td>7.000000</td>\n",
       "      <td>2940.000000</td>\n",
       "      <td>7.986165</td>\n",
       "      <td>-0.014099</td>\n",
       "      <td>1.0</td>\n",
       "      <td>1.0</td>\n",
       "    </tr>\n",
       "  </tbody>\n",
       "</table>\n",
       "</div>"
      ],
      "text/plain": [
       "         euro1900    excolony     avexpr   logpgp95      cons1     cons90  \\\n",
       "count   99.000000  104.000000  74.000000  95.000000  55.000000  55.000000   \n",
       "mean    31.586870    0.653846   7.204545   8.381995   3.672727   3.654546   \n",
       "std     43.310207    0.478047   1.854914   1.104331   2.373110   2.374386   \n",
       "min      0.000000    0.000000   1.636364   6.109248   1.000000   1.000000   \n",
       "25%      0.000000    0.000000   6.045455   7.417576   1.000000   2.000000   \n",
       "50%      2.000000    1.000000   7.204545   8.301521   3.000000   3.000000   \n",
       "75%     99.500000    1.000000   8.613637   9.366871   7.000000   6.500000   \n",
       "max    100.000000    1.000000  10.000000  10.288750   7.000000   7.000000   \n",
       "\n",
       "        democ00a    cons00a     extmort4     logem4   loghjypl  baseco   AtoM  \n",
       "count  55.000000  57.000000    58.000000  58.000000  75.000000    40.0  104.0  \n",
       "mean    1.236364   2.000000   220.015854   4.534877  -1.701214     1.0    1.0  \n",
       "std     2.624413   1.982062   431.900574   1.347500   1.119577     0.0    0.0  \n",
       "min     0.000000   1.000000     2.550000   0.936093  -3.540459     1.0    1.0  \n",
       "25%     0.000000   1.000000    68.075005   4.220586  -2.789016     1.0    1.0  \n",
       "50%     0.000000   1.000000    81.599998   4.400960  -1.560648     1.0    1.0  \n",
       "75%     1.000000   1.000000   259.889984   5.559247  -0.763590     1.0    1.0  \n",
       "max    10.000000   7.000000  2940.000000   7.986165  -0.014099     1.0    1.0  "
      ]
     },
     "execution_count": 8,
     "metadata": {},
     "output_type": "execute_result"
    }
   ],
   "source": [
    "df1[df1[\"AtoM\"]==1].describe()"
   ]
  },
  {
   "cell_type": "code",
   "execution_count": 9,
   "id": "3ab14d48",
   "metadata": {
    "tags": []
   },
   "outputs": [
    {
     "data": {
      "text/html": [
       "<div>\n",
       "<style scoped>\n",
       "    .dataframe tbody tr th:only-of-type {\n",
       "        vertical-align: middle;\n",
       "    }\n",
       "\n",
       "    .dataframe tbody tr th {\n",
       "        vertical-align: top;\n",
       "    }\n",
       "\n",
       "    .dataframe thead th {\n",
       "        text-align: right;\n",
       "    }\n",
       "</style>\n",
       "<table border=\"1\" class=\"dataframe\">\n",
       "  <thead>\n",
       "    <tr style=\"text-align: right;\">\n",
       "      <th></th>\n",
       "      <th>euro1900</th>\n",
       "      <th>excolony</th>\n",
       "      <th>avexpr</th>\n",
       "      <th>logpgp95</th>\n",
       "      <th>cons1</th>\n",
       "      <th>cons90</th>\n",
       "      <th>democ00a</th>\n",
       "      <th>cons00a</th>\n",
       "      <th>extmort4</th>\n",
       "      <th>logem4</th>\n",
       "      <th>loghjypl</th>\n",
       "      <th>baseco</th>\n",
       "      <th>AtoM</th>\n",
       "    </tr>\n",
       "  </thead>\n",
       "  <tbody>\n",
       "    <tr>\n",
       "      <th>count</th>\n",
       "      <td>55.000000</td>\n",
       "      <td>58.000000</td>\n",
       "      <td>47.000000</td>\n",
       "      <td>53.000000</td>\n",
       "      <td>33.000000</td>\n",
       "      <td>33.000000</td>\n",
       "      <td>32.000000</td>\n",
       "      <td>34.000000</td>\n",
       "      <td>29.000000</td>\n",
       "      <td>29.000000</td>\n",
       "      <td>48.000000</td>\n",
       "      <td>24.0</td>\n",
       "      <td>59.0</td>\n",
       "    </tr>\n",
       "    <tr>\n",
       "      <th>mean</th>\n",
       "      <td>28.449091</td>\n",
       "      <td>0.689655</td>\n",
       "      <td>6.849130</td>\n",
       "      <td>8.160035</td>\n",
       "      <td>3.454545</td>\n",
       "      <td>3.606061</td>\n",
       "      <td>1.000000</td>\n",
       "      <td>1.617647</td>\n",
       "      <td>222.747574</td>\n",
       "      <td>4.718197</td>\n",
       "      <td>-1.777811</td>\n",
       "      <td>1.0</td>\n",
       "      <td>0.0</td>\n",
       "    </tr>\n",
       "    <tr>\n",
       "      <th>std</th>\n",
       "      <td>40.994987</td>\n",
       "      <td>0.466675</td>\n",
       "      <td>1.718516</td>\n",
       "      <td>1.103215</td>\n",
       "      <td>2.513599</td>\n",
       "      <td>2.317588</td>\n",
       "      <td>2.527271</td>\n",
       "      <td>1.517867</td>\n",
       "      <td>374.625153</td>\n",
       "      <td>1.223847</td>\n",
       "      <td>1.035098</td>\n",
       "      <td>0.0</td>\n",
       "      <td>0.0</td>\n",
       "    </tr>\n",
       "    <tr>\n",
       "      <th>min</th>\n",
       "      <td>0.000000</td>\n",
       "      <td>0.000000</td>\n",
       "      <td>3.000000</td>\n",
       "      <td>6.253829</td>\n",
       "      <td>1.000000</td>\n",
       "      <td>1.000000</td>\n",
       "      <td>0.000000</td>\n",
       "      <td>1.000000</td>\n",
       "      <td>8.550000</td>\n",
       "      <td>2.145931</td>\n",
       "      <td>-3.540459</td>\n",
       "      <td>1.0</td>\n",
       "      <td>0.0</td>\n",
       "    </tr>\n",
       "    <tr>\n",
       "      <th>25%</th>\n",
       "      <td>0.000000</td>\n",
       "      <td>0.000000</td>\n",
       "      <td>5.818182</td>\n",
       "      <td>7.279319</td>\n",
       "      <td>1.000000</td>\n",
       "      <td>1.000000</td>\n",
       "      <td>0.000000</td>\n",
       "      <td>1.000000</td>\n",
       "      <td>71.000000</td>\n",
       "      <td>4.262680</td>\n",
       "      <td>-2.710639</td>\n",
       "      <td>1.0</td>\n",
       "      <td>0.0</td>\n",
       "    </tr>\n",
       "    <tr>\n",
       "      <th>50%</th>\n",
       "      <td>1.000000</td>\n",
       "      <td>1.000000</td>\n",
       "      <td>6.863636</td>\n",
       "      <td>8.107720</td>\n",
       "      <td>3.000000</td>\n",
       "      <td>3.000000</td>\n",
       "      <td>0.000000</td>\n",
       "      <td>1.000000</td>\n",
       "      <td>140.000000</td>\n",
       "      <td>4.941642</td>\n",
       "      <td>-1.595533</td>\n",
       "      <td>1.0</td>\n",
       "      <td>0.0</td>\n",
       "    </tr>\n",
       "    <tr>\n",
       "      <th>75%</th>\n",
       "      <td>50.000000</td>\n",
       "      <td>1.000000</td>\n",
       "      <td>7.659091</td>\n",
       "      <td>8.885994</td>\n",
       "      <td>7.000000</td>\n",
       "      <td>7.000000</td>\n",
       "      <td>1.000000</td>\n",
       "      <td>1.000000</td>\n",
       "      <td>240.000000</td>\n",
       "      <td>5.634789</td>\n",
       "      <td>-0.870507</td>\n",
       "      <td>1.0</td>\n",
       "      <td>0.0</td>\n",
       "    </tr>\n",
       "    <tr>\n",
       "      <th>max</th>\n",
       "      <td>100.000000</td>\n",
       "      <td>1.000000</td>\n",
       "      <td>10.000000</td>\n",
       "      <td>10.215740</td>\n",
       "      <td>7.000000</td>\n",
       "      <td>7.000000</td>\n",
       "      <td>10.000000</td>\n",
       "      <td>7.000000</td>\n",
       "      <td>2004.000000</td>\n",
       "      <td>7.602901</td>\n",
       "      <td>0.000000</td>\n",
       "      <td>1.0</td>\n",
       "      <td>0.0</td>\n",
       "    </tr>\n",
       "  </tbody>\n",
       "</table>\n",
       "</div>"
      ],
      "text/plain": [
       "         euro1900   excolony     avexpr   logpgp95      cons1     cons90  \\\n",
       "count   55.000000  58.000000  47.000000  53.000000  33.000000  33.000000   \n",
       "mean    28.449091   0.689655   6.849130   8.160035   3.454545   3.606061   \n",
       "std     40.994987   0.466675   1.718516   1.103215   2.513599   2.317588   \n",
       "min      0.000000   0.000000   3.000000   6.253829   1.000000   1.000000   \n",
       "25%      0.000000   0.000000   5.818182   7.279319   1.000000   1.000000   \n",
       "50%      1.000000   1.000000   6.863636   8.107720   3.000000   3.000000   \n",
       "75%     50.000000   1.000000   7.659091   8.885994   7.000000   7.000000   \n",
       "max    100.000000   1.000000  10.000000  10.215740   7.000000   7.000000   \n",
       "\n",
       "        democ00a    cons00a     extmort4     logem4   loghjypl  baseco  AtoM  \n",
       "count  32.000000  34.000000    29.000000  29.000000  48.000000    24.0  59.0  \n",
       "mean    1.000000   1.617647   222.747574   4.718197  -1.777811     1.0   0.0  \n",
       "std     2.527271   1.517867   374.625153   1.223847   1.035098     0.0   0.0  \n",
       "min     0.000000   1.000000     8.550000   2.145931  -3.540459     1.0   0.0  \n",
       "25%     0.000000   1.000000    71.000000   4.262680  -2.710639     1.0   0.0  \n",
       "50%     0.000000   1.000000   140.000000   4.941642  -1.595533     1.0   0.0  \n",
       "75%     1.000000   1.000000   240.000000   5.634789  -0.870507     1.0   0.0  \n",
       "max    10.000000   7.000000  2004.000000   7.602901   0.000000     1.0   0.0  "
      ]
     },
     "execution_count": 9,
     "metadata": {},
     "output_type": "execute_result"
    }
   ],
   "source": [
    "df1[df1[\"AtoM\"]==0].describe()"
   ]
  },
  {
   "cell_type": "markdown",
   "id": "03014765",
   "metadata": {},
   "source": [
    "Let's make two scatterplots to see with our eyes if there seems to be a difference in the relationship."
   ]
  },
  {
   "cell_type": "code",
   "execution_count": 10,
   "id": "ff475c65",
   "metadata": {
    "tags": [
     "remove-output"
    ]
   },
   "outputs": [
    {
     "data": {
      "image/png": "[encoded data removed]",
      "text/plain": [
       "<Figure size 640x480 with 1 Axes>"
      ]
     },
     "metadata": {},
     "output_type": "display_data"
    }
   ],
   "source": [
    "# Plot the scatterplot of the relationship for the countries for which the first\n",
    "# letter of the abbreviation is between A to M\n",
    "plt.scatter(\n",
    "  x=df1[df1[\"AtoM\"]==1][\"avexpr\"], y=df1[df1[\"AtoM\"]==1][\"logpgp95\"], s=10\n",
    ")\n",
    "plt.xlim((3.2, 10.5))\n",
    "plt.ylim((5.9, 10.5))\n",
    "plt.title(\"Scatterplot of average expropriation protection and log GDP per \" +\n",
    "          \"capita \\n for each country, first letter in A-M\")\n",
    "plt.xlabel(r'Average Expropriation Protection 1985-95')\n",
    "plt.ylabel(r'Log GDP per capita, PPP, 1995')\n",
    "plt.grid(color='gray', linestyle=':', linewidth=1, alpha=0.5)\n",
    "plt.show()"
   ]
  },
  {
   "cell_type": "markdown",
   "id": "e360bfe1",
   "metadata": {},
   "source": [
    "```{figure} ../../../images/basic_empirics/basic_empirics/scatter2.png\n",
    ":height: 500px\n",
    ":name: FigBasicEmpir_scatter2\n",
    "\n",
    "Scatterplot of average expropriation protection $avexpr$ and log GDP per capita $logpgp95$ for each country, first letter in A-M\n",
    "```"
   ]
  },
  {
   "cell_type": "code",
   "execution_count": 11,
   "id": "b742096e",
   "metadata": {
    "tags": [
     "remove-output"
    ]
   },
   "outputs": [
    {
     "data": {
      "image/png": "[encoded data removed]",
      "text/plain": [
       "<Figure size 640x480 with 1 Axes>"
      ]
     },
     "metadata": {},
     "output_type": "display_data"
    }
   ],
   "source": [
    "# Plot the scatterplot of the relationship for the countries for which the first\n",
    "# letter of the abbreviation is between N to Z\n",
    "plt.scatter(\n",
    "  x=df1[df1[\"AtoM\"]==0][\"avexpr\"], y=df1[df1[\"AtoM\"]==0][\"logpgp95\"], s=10\n",
    ")\n",
    "plt.xlim((3.2, 10.5))\n",
    "plt.ylim((5.9, 10.5))\n",
    "plt.title(\"Scatterplot of average expropriation protection and log GDP per \" +\n",
    "          \"capita \\n for each country, first letter in N-Z\")\n",
    "plt.xlabel(r'Average Expropriation Protection 1985-95')\n",
    "plt.ylabel(r'Log GDP per capita, PPP, 1995')\n",
    "plt.grid(color='gray', linestyle=':', linewidth=1, alpha=0.5)\n",
    "plt.show()"
   ]
  },
  {
   "cell_type": "markdown",
   "id": "c75ec179",
   "metadata": {},
   "source": [
    "```{figure} ../../../images/basic_empirics/basic_empirics/scatter3.png\n",
    ":height: 500px\n",
    ":name: FigBasicEmpir_scatter3\n",
    "\n",
    "Scatterplot of average expropriation protection $avexpr$ and log GDP per capita $logpgp95$ for each country, first letter in N-Z\n",
    "```\n",
    "\n",
    "\n",
    "(SecBasicEmpLinReg)=\n",
    "## Basic Understanding of Linear Regression\n",
    "\n",
    "\n",
    "(SecBasicEmpLinRegExamp)=\n",
    "### Example: Acemoglu, et al (2001)\n",
    "\n",
    "Given the plots in {numref}`Figure %s <FigBasicEmpir_scatter1>`, {numref}`Figure %s <FigBasicEmpir_scatter2>`, and {numref}`Figure %s <FigBasicEmpir_scatter3>` above, choosing a linear model to describe this relationship seems like a reasonable assumption.\n",
    "\n",
    "We can write a model as:\n",
    "\n",
    "```{math}\n",
    "    :label: EqBasicEmp_AcemogluReg\n",
    "    logpgp95_i = \\beta_0 + \\beta_1 avexpr_i + u_i\n",
    "```\n",
    "\n",
    "where:\n",
    "* $\\beta_0$ is the intercept of the linear trend line on the $y$-axis\n",
    "* $\\beta_1$ is the slope of the linear trend line, representing the marginal effect of protection against risk on log GDP per capita\n",
    "* $u_i$ is a random error term (deviations of observations from the linear trend due to factors not included in the model)\n",
    "\n",
    "Visually, this linear model involves choosing a straight line that best fits the data according to some criterion, as in the following plot (Figure 2 in {cite}`AcemogluEtAl:2001`)."
   ]
  },
  {
   "cell_type": "code",
   "execution_count": 12,
   "id": "06f62447",
   "metadata": {
    "tags": [
     "remove-output"
    ]
   },
   "outputs": [
    {
     "data": {
      "image/png": "[encoded data removed]",
      "text/plain": [
       "<Figure size 640x480 with 1 Axes>"
      ]
     },
     "metadata": {},
     "output_type": "display_data"
    }
   ],
   "source": [
    "import numpy as np\n",
    "\n",
    "# Dropping NA's is required to use numpy's polyfit\n",
    "df1_subset = df1.dropna(subset=['logpgp95', 'avexpr'])\n",
    "# df1_subset.describe()\n",
    "\n",
    "# Use only 'base sample' for plotting purposes (smaller sample)\n",
    "df1_subset = df1_subset[df1_subset['baseco'] == 1]\n",
    "# df1_subset.describe()\n",
    "\n",
    "X = df1_subset['avexpr']\n",
    "y = df1_subset['logpgp95']\n",
    "labels = df1_subset['shortnam']\n",
    "\n",
    "# Replace markers with country labels\n",
    "plt.scatter(X, y, marker='')\n",
    "\n",
    "for i, label in enumerate(labels):\n",
    "    plt.annotate(label, (X.iloc[i], y.iloc[i]))\n",
    "\n",
    "# Fit a linear trend line\n",
    "plt.plot(np.unique(X),\n",
    "         np.poly1d(np.polyfit(X, y, 1))(np.unique(X)),\n",
    "         color='black')\n",
    "\n",
    "plt.xlabel('Average Expropriation Protection 1985-95')\n",
    "plt.ylabel('Log GDP per capita, PPP, 1995')\n",
    "plt.xlim((3.2, 10.5))\n",
    "plt.ylim((5.9, 10.5))\n",
    "plt.title('OLS relationship between expropriation risk and income (Fig. 2 from Acemoglu, et al 2001)')\n",
    "plt.show()"
   ]
  },
  {
   "cell_type": "markdown",
   "id": "f24ec0fa",
   "metadata": {},
   "source": [
    "```{figure} ../../../images/basic_empirics/basic_empirics/AcemogluEtAl_fig2.png\n",
    ":height: 500px\n",
    ":name: FigBasicEmpir_AcemFig2\n",
    "\n",
    "OLS relationship between expropropriation risk and income (Fig. 2 from Acemoglu, et al, 2001)\n",
    "```\n",
    "\n",
    "The most common technique to estimate the parameters ($\\beta$‘s) of the linear model is Ordinary Least Squares (OLS). As the name implies, an OLS model is solved by finding the parameters that minimize the sum of squared residuals.\n",
    "\n",
    "```{math}\n",
    "    :label: EqBasicEmp_OLScrit\n",
    "    \\hat{\\beta}_{OLS} = \\beta : \\quad \\min_{\\beta}\\: u(X|\\beta_0,\\beta_1)^T \\: u(X|\\beta_0,\\beta_1)\n",
    "```\n",
    "\n",
    "where $\\hat{u}_i$ is the difference between the dependent variable observation $logpgp95_i$ and the predicted value of the dependent variable $\\beta_0 + \\beta_1 avexpr_i$. To estimate the constant term $\\beta_0$, we need to add a column of 1’s to our dataset (consider the equation if $\\beta_0$ was replaced with $\\beta_0 x_i$ where $x_i=1$)."
   ]
  },
  {
   "cell_type": "code",
   "execution_count": 13,
   "id": "e980fcb7",
   "metadata": {
    "tags": []
   },
   "outputs": [],
   "source": [
    "df1['const'] = 1"
   ]
  },
  {
   "cell_type": "markdown",
   "id": "2f6b4c13",
   "metadata": {},
   "source": [
    "Now we can construct our model using the [`statsmodels`](https://www.statsmodels.org/stable/index.html) module and the [`OLS`](https://www.statsmodels.org/dev/examples/notebooks/generated/ols.html) method. We will use `pandas` DataFrames with `statsmodels`. However, standard arrays can also be used as arguments."
   ]
  },
  {
   "cell_type": "code",
   "execution_count": 14,
   "id": "2bf61d73",
   "metadata": {
    "tags": [
     "remove-output"
    ]
   },
   "outputs": [
    {
     "name": "stdout",
     "output_type": "stream",
     "text": [
      "Collecting statsmodels\r\n"
     ]
    },
    {
     "name": "stdout",
     "output_type": "stream",
     "text": [
      "  Downloading statsmodels-0.14.0-cp310-cp310-manylinux_2_17_x86_64.manylinux2014_x86_64.whl (10.1 MB)\r\n",
      "\u001b[?25l     \u001b[90m━━━━━━━━━━━━━━━━━━━━━━━━━━━━━━━━━━━━━━━━\u001b[0m \u001b[32m0.0/10.1 MB\u001b[0m \u001b[31m?\u001b[0m eta \u001b[36m-:--:--\u001b[0m\r",
      "\u001b[2K     \u001b[91m━━━━━━━━━\u001b[0m\u001b[91m╸\u001b[0m\u001b[90m━━━━━━━━━━━━━━━━━━━━━━━━━━━━━━\u001b[0m \u001b[32m2.5/10.1 MB\u001b[0m \u001b[31m74.0 MB/s\u001b[0m eta \u001b[36m0:00:01\u001b[0m"
     ]
    },
    {
     "name": "stdout",
     "output_type": "stream",
     "text": [
      "\r",
      "\u001b[2K     \u001b[91m━━━━━━━━━━━━━━━━━━━━━━━━━━━━━\u001b[0m\u001b[90m╺\u001b[0m\u001b[90m━━━━━━━━━━\u001b[0m \u001b[32m7.3/10.1 MB\u001b[0m \u001b[31m126.2 MB/s\u001b[0m eta \u001b[36m0:00:01\u001b[0m"
     ]
    },
    {
     "name": "stdout",
     "output_type": "stream",
     "text": [
      "\r",
      "\u001b[2K     \u001b[91m━━━━━━━━━━━━━━━━━━━━━━━━━━━━━━━━━━━━━━\u001b[0m\u001b[91m╸\u001b[0m \u001b[32m10.1/10.1 MB\u001b[0m \u001b[31m111.9 MB/s\u001b[0m eta \u001b[36m0:00:01\u001b[0m\r",
      "\u001b[2K     \u001b[90m━━━━━━━━━━━━━━━━━━━━━━━━━━━━━━━━━━━━━━━━\u001b[0m \u001b[32m10.1/10.1 MB\u001b[0m \u001b[31m86.9 MB/s\u001b[0m eta \u001b[36m0:00:00\u001b[0m\r\n",
      "\u001b[?25h"
     ]
    },
    {
     "name": "stdout",
     "output_type": "stream",
     "text": [
      "Requirement already satisfied: numpy>=1.18 in /usr/share/miniconda3/envs/compmethods-dev/lib/python3.10/site-packages (from statsmodels) (1.26.2)\r\n",
      "Requirement already satisfied: scipy!=1.9.2,>=1.4 in /usr/share/miniconda3/envs/compmethods-dev/lib/python3.10/site-packages (from statsmodels) (1.11.4)\r\n",
      "Requirement already satisfied: pandas>=1.0 in /usr/share/miniconda3/envs/compmethods-dev/lib/python3.10/site-packages (from statsmodels) (2.1.3)\r\n",
      "Collecting patsy>=0.5.2 (from statsmodels)\r\n",
      "  Downloading patsy-0.5.4-py2.py3-none-any.whl.metadata (3.4 kB)\r\n",
      "Requirement already satisfied: packaging>=21.3 in /usr/share/miniconda3/envs/compmethods-dev/lib/python3.10/site-packages (from statsmodels) (23.2)\r\n"
     ]
    },
    {
     "name": "stdout",
     "output_type": "stream",
     "text": [
      "Requirement already satisfied: python-dateutil>=2.8.2 in /usr/share/miniconda3/envs/compmethods-dev/lib/python3.10/site-packages (from pandas>=1.0->statsmodels) (2.8.2)\r\n",
      "Requirement already satisfied: pytz>=2020.1 in /usr/share/miniconda3/envs/compmethods-dev/lib/python3.10/site-packages (from pandas>=1.0->statsmodels) (2023.3.post1)\r\n",
      "Requirement already satisfied: tzdata>=2022.1 in /usr/share/miniconda3/envs/compmethods-dev/lib/python3.10/site-packages (from pandas>=1.0->statsmodels) (2023.3)\r\n"
     ]
    },
    {
     "name": "stdout",
     "output_type": "stream",
     "text": [
      "Requirement already satisfied: six in /usr/share/miniconda3/envs/compmethods-dev/lib/python3.10/site-packages (from patsy>=0.5.2->statsmodels) (1.16.0)\r\n",
      "Downloading patsy-0.5.4-py2.py3-none-any.whl (233 kB)\r\n",
      "\u001b[?25l   \u001b[90m━━━━━━━━━━━━━━━━━━━━━━━━━━━━━━━━━━━━━━━━\u001b[0m \u001b[32m0.0/233.9 kB\u001b[0m \u001b[31m?\u001b[0m eta \u001b[36m-:--:--\u001b[0m\r",
      "\u001b[2K   \u001b[90m━━━━━━━━━━━━━━━━━━━━━━━━━━━━━━━━━━━━━━━━\u001b[0m \u001b[32m233.9/233.9 kB\u001b[0m \u001b[31m51.7 MB/s\u001b[0m eta \u001b[36m0:00:00\u001b[0m\r\n",
      "\u001b[?25h"
     ]
    },
    {
     "name": "stdout",
     "output_type": "stream",
     "text": [
      "Installing collected packages: patsy, statsmodels\r\n"
     ]
    },
    {
     "name": "stdout",
     "output_type": "stream",
     "text": [
      "Successfully installed patsy-0.5.4 statsmodels-0.14.0\r\n"
     ]
    }
   ],
   "source": [
    "!pip install --upgrade statsmodels"
   ]
  },
  {
   "cell_type": "code",
   "execution_count": 15,
   "id": "5338f2d7",
   "metadata": {
    "tags": []
   },
   "outputs": [
    {
     "data": {
      "text/plain": [
       "statsmodels.regression.linear_model.OLS"
      ]
     },
     "execution_count": 15,
     "metadata": {},
     "output_type": "execute_result"
    }
   ],
   "source": [
    "import statsmodels.api as sm\n",
    "\n",
    "reg1 = sm.OLS(endog=df1['logpgp95'], exog=df1[['const', 'avexpr']], missing='drop')\n",
    "type(reg1)"
   ]
  },
  {
   "cell_type": "markdown",
   "id": "c16339df",
   "metadata": {},
   "source": [
    "So far we have simply constructed our model. The `statsmodels.regression.linear_model.OLS` is simply an object specifying dependent and independent variables, as well as instructions about what to do with missing data. We need to use the `.fit()` method to obtain OLS parameter estimates $\\hat{\\beta}_0$ and $\\hat{\\beta}_1$. This method calculates the OLS coefficients according to the minimization problem in {eq}`EqBasicEmp_OLScrit`."
   ]
  },
  {
   "cell_type": "code",
   "execution_count": 16,
   "id": "34529e50",
   "metadata": {
    "tags": []
   },
   "outputs": [
    {
     "data": {
      "text/plain": [
       "statsmodels.regression.linear_model.RegressionResultsWrapper"
      ]
     },
     "execution_count": 16,
     "metadata": {},
     "output_type": "execute_result"
    }
   ],
   "source": [
    "results = reg1.fit()\n",
    "type(results)"
   ]
  },
  {
   "cell_type": "markdown",
   "id": "91b8285e",
   "metadata": {},
   "source": [
    "We now have the fitted regression model stored in `results` (see [statsmodels.regression.linear_model.RegressionResultsWrapper](http://www.statsmodels.org/dev/generated/statsmodels.regression.linear_model.RegressionResults.html)). The `results` from the `reg1.fit()` command is a regression results object with a lot of information, similar to the results object of the `scipy.optimize.minimize()` function we worked with in the {ref}`Chap_MLE` and {ref}`Chap_GMM` chapters.\n",
    "\n",
    "To view the OLS regression results, we can call the `.summary()` method.\n",
    "\n",
    "[Note that an observation was mistakenly dropped from the results in the original paper (see the note located in maketable2.do from Acemoglu’s webpage), and thus the coefficients differ slightly.]"
   ]
  },
  {
   "cell_type": "code",
   "execution_count": 17,
   "id": "fddac9fc",
   "metadata": {
    "tags": []
   },
   "outputs": [
    {
     "name": "stdout",
     "output_type": "stream",
     "text": [
      "                            OLS Regression Results                            \n",
      "==============================================================================\n",
      "Dep. Variable:               logpgp95   R-squared:                       0.611\n",
      "Model:                            OLS   Adj. R-squared:                  0.608\n",
      "Method:                 Least Squares   F-statistic:                     171.4\n",
      "Date:                Wed, 06 Dec 2023   Prob (F-statistic):           4.16e-24\n",
      "Time:                        23:27:55   Log-Likelihood:                -119.71\n",
      "No. Observations:                 111   AIC:                             243.4\n",
      "Df Residuals:                     109   BIC:                             248.8\n",
      "Df Model:                           1                                         \n",
      "Covariance Type:            nonrobust                                         \n",
      "==============================================================================\n",
      "                 coef    std err          t      P>|t|      [0.025      0.975]\n",
      "------------------------------------------------------------------------------\n",
      "const          4.6261      0.301     15.391      0.000       4.030       5.222\n",
      "avexpr         0.5319      0.041     13.093      0.000       0.451       0.612\n",
      "==============================================================================\n",
      "Omnibus:                        9.251   Durbin-Watson:                   1.689\n",
      "Prob(Omnibus):                  0.010   Jarque-Bera (JB):                9.170\n",
      "Skew:                          -0.680   Prob(JB):                       0.0102\n",
      "Kurtosis:                       3.362   Cond. No.                         33.2\n",
      "==============================================================================\n",
      "\n",
      "Notes:\n",
      "[1] Standard Errors assume that the covariance matrix of the errors is correctly specified.\n"
     ]
    }
   ],
   "source": [
    "print(results.summary())"
   ]
  },
  {
   "cell_type": "markdown",
   "id": "4fd806e6",
   "metadata": {},
   "source": [
    "We can get individual items from the results, which are saved as attributes."
   ]
  },
  {
   "cell_type": "code",
   "execution_count": 18,
   "id": "232b0eb4",
   "metadata": {
    "tags": []
   },
   "outputs": [
    {
     "name": "stdout",
     "output_type": "stream",
     "text": [
      "['HC0_se', 'HC1_se', 'HC2_se', 'HC3_se', '_HCCM', '__class__', '__delattr__', '__dict__', '__dir__', '__doc__', '__eq__', '__format__', '__ge__', '__getattribute__', '__gt__', '__hash__', '__init__', '__init_subclass__', '__le__', '__lt__', '__module__', '__ne__', '__new__', '__reduce__', '__reduce_ex__', '__repr__', '__setattr__', '__sizeof__', '__str__', '__subclasshook__', '__weakref__', '_abat_diagonal', '_cache', '_data_attr', '_data_in_cache', '_get_robustcov_results', '_get_wald_nonlinear', '_is_nested', '_transform_predict_exog', '_use_t', '_wexog_singular_values', 'aic', 'bic', 'bse', 'centered_tss', 'compare_f_test', 'compare_lm_test', 'compare_lr_test', 'condition_number', 'conf_int', 'conf_int_el', 'cov_HC0', 'cov_HC1', 'cov_HC2', 'cov_HC3', 'cov_kwds', 'cov_params', 'cov_type', 'df_model', 'df_resid', 'diagn', 'eigenvals', 'el_test', 'ess', 'f_pvalue', 'f_test', 'fittedvalues', 'fvalue', 'get_influence', 'get_prediction', 'get_robustcov_results', 'info_criteria', 'initialize', 'k_constant', 'llf', 'load', 'model', 'mse_model', 'mse_resid', 'mse_total', 'nobs', 'normalized_cov_params', 'outlier_test', 'params', 'predict', 'pvalues', 'remove_data', 'resid', 'resid_pearson', 'rsquared', 'rsquared_adj', 'save', 'scale', 'ssr', 'summary', 'summary2', 't_test', 't_test_pairwise', 'tvalues', 'uncentered_tss', 'use_t', 'wald_test', 'wald_test_terms', 'wresid']\n",
      "\n",
      "Degrees of freedom residuals: 109.0\n",
      "\n",
      "Estimated coefficients:\n",
      "const     4.626089\n",
      "avexpr    0.531871\n",
      "dtype: float64\n",
      "\n",
      "Standard errors of estimated coefficients:\n",
      "const     0.300575\n",
      "avexpr    0.040621\n",
      "dtype: float64\n"
     ]
    }
   ],
   "source": [
    "print(dir(results))\n",
    "print(\"\")\n",
    "print(\"Degrees of freedom residuals:\", results.df_resid)\n",
    "print(\"\")\n",
    "print(\"Estimated coefficients:\")\n",
    "print(results.params)\n",
    "print(\"\")\n",
    "print(\"Standard errors of estimated coefficients:\")\n",
    "print(results.bse)"
   ]
  },
  {
   "cell_type": "markdown",
   "id": "814db6d0",
   "metadata": {},
   "source": [
    "The powerful machine learning python package scikit-learn also has a linear regression function [sklearn.linear_model.LinearRegression](https://scikit-learn.org/stable/modules/generated/sklearn.linear_model.LinearRegression.html). It is very good at prediction, but it is harder to get things like standard errors that are valuable for inference.\n",
    "\n",
    "\n",
    "(SecBasicEmpLinRegCoefSE)=\n",
    "### What do coefficients and standard errors mean?\n",
    "\n",
    "Go through cross terms and quadratic terms and difference-in-difference.\n",
    "\n",
    "\n",
    "(SecBasicEmpLinRegInterpRes)=\n",
    "### Interpreting results and output\n",
    "\n",
    "From our results, we see that:\n",
    "* the intercept $\\hat{\\beta}_0=4.63$ (interpretation?)\n",
    "* the slope $\\hat{\\beta}_1=0.53$ (interpretation?)\n",
    "* the positive $\\hat{\\beta}_1>0$ parameter estimate implies that protection from expropriation has a positive effect on economic outcomes, as we saw in the figure.\n",
    "* How would you quantitatively interpret the $\\hat{\\beta}_1$ coefficient?\n",
    "* What do the standard errors on the coefficients tell you?\n",
    "* The p-value of 0.000 for $\\hat{\\beta}_1$ implies that the effect of institutions on GDP is statistically significant (using $p < 0.05$ as a rejection rule)\n",
    "* The R-squared value of 0.611 indicates that around 61% of variation in log GDP per capita is explained by protection against expropriation\n",
    "\n",
    "Using our parameter estimates, we can now write our estimated relationship as:\n",
    "```{math}\n",
    "    :label: EqBasicEmp_AcemogluRegEst\n",
    "    \\hat{logpgp95}_i = 4.63 + 0.53 avexpr_i\n",
    "```\n",
    "\n",
    "This equation describes the line that best fits our data, as shown in {numref}`Figure %s <FigBasicEmpir_AcemFig2>`. We can use this equation to predict the level of log GDP per capita for a value of the index of expropriation protection (see Section {ref}`SecBasicEmpLinRegPredVals` below).\n",
    "\n",
    "\n",
    "(SecBasicEmpLinRegANOVA)=\n",
    "### Analysis of variance (ANOVA) output\n",
    "\n",
    "The results `.summary()` method provides a lot of regression output. And the `.RegressionResults` object has much more as evidenced in the help page [statsmodels.regression.linear_model.RegressionResults](http://www.statsmodels.org/dev/generated/statsmodels.regression.linear_model.RegressionResults.html).\n",
    "\n",
    "* The `Df Residuals: 109` displays the degrees of freedom from the residual variance calculation. This equals the number of observations minus the number of regression coefficients, `N-p=111-2`. This is accessed with `results.df_resid`.\n",
    "* The `Df Model: 1` displays the degrees of freedom from the model variance calculation or from the regressors. This equals the number of regression coefficients minus one, `p-1=2-1`. This is accessed with `results.df_model`.\n",
    "* One can specify robust standard errors in their regression. The robust option is specified in the `.fit()` command. You can specify three different types of robust standard errors using the `.fit(cov_type='HC1')`, `.fit(cov_type='HC2')`, or `.fit(cov_type='HC3')` options.\n",
    "* You can do clustered standard errors if you have groups labeled in a variable called `mygroups` by using the `.fit(cov_type='cluster', cov_kwds={'groups': mygroups})`.\n",
    "* R-squared is a measure of fit of the overall model. It is $R^2=1 - SSR/SST$ where $SST$ is the total variance of the dependent variable (total sum of squares), and $SSR$ is the sum of squared residuals (variance of the residuals). Another expresion is the sum of squared predicted values over the total sum of squares $R^2= SSM/SST$, where $SSM$ is the sum of squared predicted values. This is accessed with `results.rsquared`.\n",
    "* Adjusted R-squared is a measure of fit of the overall model that penalizes extra regressors. A property of the R-squared in the previous bullet is that it always increases as you add more explanatory variables. This is accessed with `results.rsquared_adj`.\n",
    "\n",
    "\n",
    "(SecBasicEmpLinRegFtest)=\n",
    "### F-test and log likelihood test\n",
    "\n",
    "* The F-statistic is the statistic from an F-test of the joint hypothesis that all the coefficients are equal to zero. The value of the F-statistic is distributed according to the F-distribution $F(d1,d2)$, where $d1=p-1$ and $d2=N-p$.\n",
    "* The Prob (F-statistic) is the probability that the null hypothesis of all the coefficients being zero is true. In this case, it is really small.\n",
    "* Log-likelihood is the sum of the log pdf values of the errors given their being normally distributed with mean 0 and standard deviation implied by the OLS estimates.\n",
    "\n",
    "\n",
    "(SecBasicEmpLinRegInfer)=\n",
    "### Inference on individual parameters\n",
    "\n",
    "* The estimated coefficients of the linear regression are reported in the `results.params` vector object (pandas Series).\n",
    "* The standard error on each estimated coefficient is reported in the summary results column entitled `std err`. These standard errors are reported in the `results.bse` vector object (pandas Series).\n",
    "* The \"t\" column is the $t$ test statistic. It is the value in the support of the students-T distribution that is equivalent to the estimated coefficient if the null-hypothesis were true that the estimated coefficient were 0.\n",
    "* The reported p-value is the probability of a two-sided t-test that gives the probability that the estimated coefficient is greater than its estimated value if the true value were 0. A more intuitive interpretation is the probability of seeing that estimated value if the null hypothesis were true. We usually reject the null hypothesis if the p-value is lower than 0.05.\n",
    "* The summary results report the 95% two-sided confidence interval for the estimated value.\n",
    "\n",
    "\n",
    "(SecBasicEmpLinRegPredVals)=\n",
    "### Predicted values\n",
    "\n",
    "We can obtain an array of predicted $logpgp95_i$ for every value of $avexpr_i$ in our dataset by calling `.predict()` on our results. Let's first get the predicted value for the average country in the dataset."
   ]
  },
  {
   "cell_type": "code",
   "execution_count": 19,
   "id": "a5799115",
   "metadata": {
    "tags": []
   },
   "outputs": [
    {
     "data": {
      "text/plain": [
       "7.066491"
      ]
     },
     "execution_count": 19,
     "metadata": {},
     "output_type": "execute_result"
    }
   ],
   "source": [
    "mean_expr = np.mean(df1['avexpr'])\n",
    "mean_expr"
   ]
  },
  {
   "cell_type": "code",
   "execution_count": 20,
   "id": "5a13102a",
   "metadata": {
    "tags": []
   },
   "outputs": [
    {
     "name": "stdout",
     "output_type": "stream",
     "text": [
      "const     4.626089\n",
      "avexpr    0.531871\n",
      "dtype: float64\n"
     ]
    }
   ],
   "source": [
    "print(results.params)"
   ]
  },
  {
   "cell_type": "code",
   "execution_count": 21,
   "id": "436e822c",
   "metadata": {
    "tags": []
   },
   "outputs": [
    {
     "name": "stdout",
     "output_type": "stream",
     "text": [
      "8.375240297317506\n"
     ]
    }
   ],
   "source": [
    "predicted_logpdp95 = 4.63 + 0.53 * mean_expr\n",
    "print(predicted_logpdp95)"
   ]
  },
  {
   "cell_type": "markdown",
   "id": "744d6b28",
   "metadata": {},
   "source": [
    "An easier (and more accurate) way to obtain this result is to use `.predict()` and set $constant=1$ and $avexpr_i=$ `mean_expr`."
   ]
  },
  {
   "cell_type": "code",
   "execution_count": 22,
   "id": "3d6caffb",
   "metadata": {
    "tags": []
   },
   "outputs": [
    {
     "data": {
      "text/plain": [
       "array([8.38455358])"
      ]
     },
     "execution_count": 22,
     "metadata": {},
     "output_type": "execute_result"
    }
   ],
   "source": [
    "results.predict(exog=[1, mean_expr])"
   ]
  },
  {
   "cell_type": "markdown",
   "id": "bb9e9a5b",
   "metadata": {},
   "source": [
    "Plotting the predicted values against $avexpr_i$ shows that the predicted values lie along the linear line that we fitted below in {numref}`Figure %s <FigBasicEmpir_AcemPredVals>`. The observed values of $logpgp95_i$ are also plotted for comparison purposes."
   ]
  },
  {
   "cell_type": "code",
   "execution_count": 23,
   "id": "b4410503",
   "metadata": {
    "tags": [
     "remove-output"
    ]
   },
   "outputs": [
    {
     "data": {
      "image/png": "[encoded data removed]",
      "text/plain": [
       "<Figure size 640x480 with 1 Axes>"
      ]
     },
     "metadata": {},
     "output_type": "display_data"
    }
   ],
   "source": [
    "# Drop missing observations from whole sample\n",
    "df1_plot = df1.dropna(subset=['logpgp95', 'avexpr'])\n",
    "\n",
    "# Plot predicted values. alpha is a blending value between 0 (transparent) and 1 (opaque)\n",
    "plt.scatter(df1_plot['avexpr'], results.predict(), alpha=0.5, label='predicted')\n",
    "\n",
    "# Plot observed values\n",
    "plt.scatter(df1_plot['avexpr'], df1_plot['logpgp95'], alpha=0.5, label='observed')\n",
    "\n",
    "plt.legend()\n",
    "plt.title('OLS predicted values')\n",
    "plt.xlabel('Average Expropriation Protection 1985-95')\n",
    "plt.ylabel('Log GDP per capita, PPP, 1995')\n",
    "plt.show()"
   ]
  },
  {
   "cell_type": "markdown",
   "id": "dccb0e85",
   "metadata": {},
   "source": [
    "```{figure} ../../../images/basic_empirics/basic_empirics/AcemogluEtAl_predvals.png\n",
    ":height: 500px\n",
    ":name: FigBasicEmpir_AcemPredVals\n",
    "\n",
    "OLS predicted values for Acemoglu, et al, 2001 data\n",
    "```\n",
    "\n",
    "\n",
    "(SecBasicEmpLinRegExt)=\n",
    "## Basic extensions of linear regression\n",
    "\n",
    "* Instrumental variables (omitted variable bias)\n",
    "* Logistic regression\n",
    "* Multiple equation models\n",
    "* Panel data\n",
    "* Time series data\n",
    "* Vector autoregression\n",
    "\n",
    "\n",
    "(SecBasicEmpirExercises)=\n",
    "## Exercises\n",
    "\n",
    "```{exercise-start} Multiple linear regression\n",
    ":label: ExerBasicEmpir_MultLinRegress\n",
    ":class: green\n",
    "```\n",
    "For this problem, you will use the 397 observations from the [`Auto.csv`](https://github.com/OpenSourceEcon/CompMethods/tree/main/data/basic_empirics/Auto.csv) dataset in the [`/data/basic_empirics/`](https://github.com/OpenSourceEcon/CompMethods/tree/main/data/basic_empirics) folder of the repository for this book.[^Auto] This dataset includes 397 observations on the following variables:\n",
    "* `mpg`: miles per gallon\n",
    "* `cylinders`: number of cylinders\n",
    "* `displacement`: engine displacement (cubic inches)\n",
    "* `horsepower`: engine horsepower\n",
    "* `weight`: vehicle weight (lbs.)\n",
    "* `acceleration`: time to accelerate from 0 to 60 mph (sec.)\n",
    "* `year`: vehicle year\n",
    "* `origin`: origin of car (1=American, 2=European, 3=Japanese)\n",
    "* `name`: vehicle name\n",
    "1. Import the data using the [`pandas.read_csv()`](https://pandas.pydata.org/pandas-docs/stable/reference/api/pandas.read_csv.html) function. Look for characters that seem out of place that might indicate missing values. Replace them with missing values using the `na_values=...` option.\n",
    "2. Create descriptive statistics for each of the numerical variables (count, mean, standard deviation, min, 25%, 50%, 75%, max). How do you interpret the descriptive statistics on the `origin` variable? What might be a better way to report descriptive statistics for this categorical variable?\n",
    "3. Produce a scatterplot matrix which includes all of the numerical variables `mpg`, `cylinders`, `displacement`, `horsepower`, `weight`, `acceleration`, `year`, `origin`. Call your DataFrame of numerical variables `df_numer`. [Use the pandas scatterplot function in the code block below.]\n",
    "```python\n",
    "from pandas.plotting import scatter_matrix\n",
    "\n",
    "scatter_matrix(df_numer, alpha=0.3, figsize=(6, 6), diagonal='kde')\n",
    "```\n",
    "4. Compute the correlation matrix for the numerical variables ($8\\times 8$) using the [`pandas.DataFrame.corr()`](https://pandas.pydata.org/pandas-docs/stable/reference/api/pandas.DataFrame.corr.html) method.\n",
    "5. What is wrong with estimating the following linear regression model? How would you fix this problem? (Hint: There is an issue with one of the variables.)\n",
    "    \\begin{equation*}\n",
    "      \\begin{split}\n",
    "        mpg_i &= \\beta_0 + \\beta_1 cylinders_i + \\beta_2 displacement_i + \\beta_3 horsepower_i + ... \\\\\n",
    "        &\\qquad \\beta_4 weight_i + \\beta_5 acceleration_i + \\beta_6 year_i + \\beta_7 origin_i + u_i\n",
    "      \\end{split}\n",
    "    \\end{equation*}\n",
    "6. Estimate the following multiple linear regression model of $mpg_i$ on all other numerical variables, where $u_i$ is an error term for each observation, using Python's `statsmodels.api.OLS()` function, with indicator variables created for two out of the three `origin` categories (2=European, 3=Japanese).\n",
    "    \\begin{equation*}\n",
    "      \\begin{split}\n",
    "        mpg_i &= \\beta_0 + \\beta_1 cylinders_i + \\beta_2 displacement_i + \\beta_3 horsepower_i + ... \\\\\n",
    "        &\\qquad \\beta_4 weight_i + \\beta_5 acceleration_i + \\beta_6 year_i + ...\\\\\n",
    "        &\\qquad \\beta_7 european_i + \\beta_8 japanese_i + u_i\n",
    "      \\end{split}\n",
    "    \\end{equation*}\n",
    "    * Which of the coefficients is statistically significant at the 1\\% level?\n",
    "    * Which of the coefficients is NOT statistically significant at the 10\\% level?\n",
    "    * Give an interpretation in words of the estimated coefficient $\\hat{\\beta}_6$ on $year_i$ using the estimated value of $\\hat{\\beta}_6$.\n",
    "7. Looking at your scatterplot matrix from part (2), what are the three variables that look most likely to have a nonlinear relationship with $mpg_i$?\n",
    "    * Estimate a new multiple regression model by OLS in which you include squared terms on the three variables you identified as having a nonlinear relationship to $mpg_i$ as well as a squared term on $acceleration_i$.\n",
    "    * Report your adjusted R-squared statistic. Is it better or worse than the adjusted R-squared from part (4)?\n",
    "    * What happened to the statistical significance of the $displacement_i$ variable coefficient and the coefficient on its squared term?\n",
    "    * What happened to the statistical significance of the cylinders variable?\n",
    "8. Using the regression model from part (6) and the `.predict()` function, what would be the predicted miles per gallon $mpg$ of a car with 6 cylinders, displacement of 200, horsepower of 100, a weight of 3,100, acceleration of 15.1, model year of 1999, and origin of 1 (American)?\n",
    "```{exercise-end}\n",
    "```\n",
    "\n",
    "\n",
    "(SecBasicEmpirFootnotes)=\n",
    "## Footnotes\n",
    "\n",
    "The footnotes from this chapter.\n",
    "\n",
    "[^PandasRef]: For a tutorial on using Python's Pandas package, see the {ref}`Chap_Pandas` chapter of this online book.\n",
    "\n",
    "[^Auto]: The [`Auto.csv`](https://github.com/OpenSourceEcon/CompMethods/tree/main/data/basic_empirics/Auto.csv) dataset comes from {cite}`JamesEtAl:2017` (ch. 3) and is also available at http://www-bcf.usc.edu/~gareth/ISL/data.html."
   ]
  }
 ],
 "metadata": {
  "jupytext": {
   "formats": "md:myst",
   "text_representation": {
    "extension": ".md",
    "format_name": "myst"
   }
  },
  "kernelspec": {
   "display_name": "Python 3",
   "language": "python",
   "name": "python3"
  },
  "language_info": {
   "codemirror_mode": {
    "name": "ipython",
    "version": 3
   },
   "file_extension": ".py",
   "mimetype": "text/x-python",
   "name": "python",
   "nbconvert_exporter": "python",
   "pygments_lexer": "ipython3",
   "version": "3.10.13"
  },
  "source_map": [
   11,
   116,
   124,
   128,
   132,
   136,
   143,
   154,
   158,
   162,
   168,
   182,
   199,
   213,
   217,
   223,
   227,
   231,
   247,
   256,
   272,
   305,
   339,
   357,
   361,
   365,
   371,
   378,
   382,
   387,
   395,
   399,
   403,
   415,
   483,
   490,
   496,
   501,
   505,
   509,
   513,
   530
  ]
 },
 "nbformat": 4,
 "nbformat_minor": 5
}